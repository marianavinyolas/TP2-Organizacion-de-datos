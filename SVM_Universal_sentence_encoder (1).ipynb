{
  "nbformat": 4,
  "nbformat_minor": 0,
  "metadata": {
    "colab": {
      "name": "SVM-Universal-sentence-encoder.ipynb",
      "provenance": []
    },
    "kernelspec": {
      "name": "python3",
      "display_name": "Python 3"
    },
    "widgets": {
      "application/vnd.jupyter.widget-state+json": {
        "9cfe15577cc04e0680f2f35cbf8cdd63": {
          "model_module": "@jupyter-widgets/controls",
          "model_name": "HBoxModel",
          "state": {
            "_view_name": "HBoxView",
            "_dom_classes": [],
            "_model_name": "HBoxModel",
            "_view_module": "@jupyter-widgets/controls",
            "_model_module_version": "1.5.0",
            "_view_count": null,
            "_view_module_version": "1.5.0",
            "box_style": "",
            "layout": "IPY_MODEL_8aae57d4eb8146ba8812dd8fa1202b80",
            "_model_module": "@jupyter-widgets/controls",
            "children": [
              "IPY_MODEL_06ac410d6ac343b8b6835f05288231fa",
              "IPY_MODEL_085c015eed6f434ebb54ad4f0eef0d4a"
            ]
          }
        },
        "8aae57d4eb8146ba8812dd8fa1202b80": {
          "model_module": "@jupyter-widgets/base",
          "model_name": "LayoutModel",
          "state": {
            "_view_name": "LayoutView",
            "grid_template_rows": null,
            "right": null,
            "justify_content": null,
            "_view_module": "@jupyter-widgets/base",
            "overflow": null,
            "_model_module_version": "1.2.0",
            "_view_count": null,
            "flex_flow": null,
            "width": null,
            "min_width": null,
            "border": null,
            "align_items": null,
            "bottom": null,
            "_model_module": "@jupyter-widgets/base",
            "top": null,
            "grid_column": null,
            "overflow_y": null,
            "overflow_x": null,
            "grid_auto_flow": null,
            "grid_area": null,
            "grid_template_columns": null,
            "flex": null,
            "_model_name": "LayoutModel",
            "justify_items": null,
            "grid_row": null,
            "max_height": null,
            "align_content": null,
            "visibility": null,
            "align_self": null,
            "height": null,
            "min_height": null,
            "padding": null,
            "grid_auto_rows": null,
            "grid_gap": null,
            "max_width": null,
            "order": null,
            "_view_module_version": "1.2.0",
            "grid_template_areas": null,
            "object_position": null,
            "object_fit": null,
            "grid_auto_columns": null,
            "margin": null,
            "display": null,
            "left": null
          }
        },
        "06ac410d6ac343b8b6835f05288231fa": {
          "model_module": "@jupyter-widgets/controls",
          "model_name": "FloatProgressModel",
          "state": {
            "_view_name": "ProgressView",
            "style": "IPY_MODEL_08db5b2bad3940bebdef9688bc563695",
            "_dom_classes": [],
            "description": "100%",
            "_model_name": "FloatProgressModel",
            "bar_style": "success",
            "max": 7613,
            "_view_module": "@jupyter-widgets/controls",
            "_model_module_version": "1.5.0",
            "value": 7613,
            "_view_count": null,
            "_view_module_version": "1.5.0",
            "orientation": "horizontal",
            "min": 0,
            "description_tooltip": null,
            "_model_module": "@jupyter-widgets/controls",
            "layout": "IPY_MODEL_97f063f4422e46c99ae448600b847954"
          }
        },
        "085c015eed6f434ebb54ad4f0eef0d4a": {
          "model_module": "@jupyter-widgets/controls",
          "model_name": "HTMLModel",
          "state": {
            "_view_name": "HTMLView",
            "style": "IPY_MODEL_4517db7096684a32881c8d81273b7191",
            "_dom_classes": [],
            "description": "",
            "_model_name": "HTMLModel",
            "placeholder": "​",
            "_view_module": "@jupyter-widgets/controls",
            "_model_module_version": "1.5.0",
            "value": " 7613/7613 [08:30&lt;00:00, 14.92it/s]",
            "_view_count": null,
            "_view_module_version": "1.5.0",
            "description_tooltip": null,
            "_model_module": "@jupyter-widgets/controls",
            "layout": "IPY_MODEL_5bea34b03eac4abd800c6263c18cd80e"
          }
        },
        "08db5b2bad3940bebdef9688bc563695": {
          "model_module": "@jupyter-widgets/controls",
          "model_name": "ProgressStyleModel",
          "state": {
            "_view_name": "StyleView",
            "_model_name": "ProgressStyleModel",
            "description_width": "initial",
            "_view_module": "@jupyter-widgets/base",
            "_model_module_version": "1.5.0",
            "_view_count": null,
            "_view_module_version": "1.2.0",
            "bar_color": null,
            "_model_module": "@jupyter-widgets/controls"
          }
        },
        "97f063f4422e46c99ae448600b847954": {
          "model_module": "@jupyter-widgets/base",
          "model_name": "LayoutModel",
          "state": {
            "_view_name": "LayoutView",
            "grid_template_rows": null,
            "right": null,
            "justify_content": null,
            "_view_module": "@jupyter-widgets/base",
            "overflow": null,
            "_model_module_version": "1.2.0",
            "_view_count": null,
            "flex_flow": null,
            "width": null,
            "min_width": null,
            "border": null,
            "align_items": null,
            "bottom": null,
            "_model_module": "@jupyter-widgets/base",
            "top": null,
            "grid_column": null,
            "overflow_y": null,
            "overflow_x": null,
            "grid_auto_flow": null,
            "grid_area": null,
            "grid_template_columns": null,
            "flex": null,
            "_model_name": "LayoutModel",
            "justify_items": null,
            "grid_row": null,
            "max_height": null,
            "align_content": null,
            "visibility": null,
            "align_self": null,
            "height": null,
            "min_height": null,
            "padding": null,
            "grid_auto_rows": null,
            "grid_gap": null,
            "max_width": null,
            "order": null,
            "_view_module_version": "1.2.0",
            "grid_template_areas": null,
            "object_position": null,
            "object_fit": null,
            "grid_auto_columns": null,
            "margin": null,
            "display": null,
            "left": null
          }
        },
        "4517db7096684a32881c8d81273b7191": {
          "model_module": "@jupyter-widgets/controls",
          "model_name": "DescriptionStyleModel",
          "state": {
            "_view_name": "StyleView",
            "_model_name": "DescriptionStyleModel",
            "description_width": "",
            "_view_module": "@jupyter-widgets/base",
            "_model_module_version": "1.5.0",
            "_view_count": null,
            "_view_module_version": "1.2.0",
            "_model_module": "@jupyter-widgets/controls"
          }
        },
        "5bea34b03eac4abd800c6263c18cd80e": {
          "model_module": "@jupyter-widgets/base",
          "model_name": "LayoutModel",
          "state": {
            "_view_name": "LayoutView",
            "grid_template_rows": null,
            "right": null,
            "justify_content": null,
            "_view_module": "@jupyter-widgets/base",
            "overflow": null,
            "_model_module_version": "1.2.0",
            "_view_count": null,
            "flex_flow": null,
            "width": null,
            "min_width": null,
            "border": null,
            "align_items": null,
            "bottom": null,
            "_model_module": "@jupyter-widgets/base",
            "top": null,
            "grid_column": null,
            "overflow_y": null,
            "overflow_x": null,
            "grid_auto_flow": null,
            "grid_area": null,
            "grid_template_columns": null,
            "flex": null,
            "_model_name": "LayoutModel",
            "justify_items": null,
            "grid_row": null,
            "max_height": null,
            "align_content": null,
            "visibility": null,
            "align_self": null,
            "height": null,
            "min_height": null,
            "padding": null,
            "grid_auto_rows": null,
            "grid_gap": null,
            "max_width": null,
            "order": null,
            "_view_module_version": "1.2.0",
            "grid_template_areas": null,
            "object_position": null,
            "object_fit": null,
            "grid_auto_columns": null,
            "margin": null,
            "display": null,
            "left": null
          }
        },
        "d44d0c76eded463ea4dea33b0bc920da": {
          "model_module": "@jupyter-widgets/controls",
          "model_name": "HBoxModel",
          "state": {
            "_view_name": "HBoxView",
            "_dom_classes": [],
            "_model_name": "HBoxModel",
            "_view_module": "@jupyter-widgets/controls",
            "_model_module_version": "1.5.0",
            "_view_count": null,
            "_view_module_version": "1.5.0",
            "box_style": "",
            "layout": "IPY_MODEL_e0c257601f28441fa175564e8a4f7911",
            "_model_module": "@jupyter-widgets/controls",
            "children": [
              "IPY_MODEL_2a301bd9f6374495b875cc5231303988",
              "IPY_MODEL_f93850cb9d804392a54d8bd696419d1f"
            ]
          }
        },
        "e0c257601f28441fa175564e8a4f7911": {
          "model_module": "@jupyter-widgets/base",
          "model_name": "LayoutModel",
          "state": {
            "_view_name": "LayoutView",
            "grid_template_rows": null,
            "right": null,
            "justify_content": null,
            "_view_module": "@jupyter-widgets/base",
            "overflow": null,
            "_model_module_version": "1.2.0",
            "_view_count": null,
            "flex_flow": null,
            "width": null,
            "min_width": null,
            "border": null,
            "align_items": null,
            "bottom": null,
            "_model_module": "@jupyter-widgets/base",
            "top": null,
            "grid_column": null,
            "overflow_y": null,
            "overflow_x": null,
            "grid_auto_flow": null,
            "grid_area": null,
            "grid_template_columns": null,
            "flex": null,
            "_model_name": "LayoutModel",
            "justify_items": null,
            "grid_row": null,
            "max_height": null,
            "align_content": null,
            "visibility": null,
            "align_self": null,
            "height": null,
            "min_height": null,
            "padding": null,
            "grid_auto_rows": null,
            "grid_gap": null,
            "max_width": null,
            "order": null,
            "_view_module_version": "1.2.0",
            "grid_template_areas": null,
            "object_position": null,
            "object_fit": null,
            "grid_auto_columns": null,
            "margin": null,
            "display": null,
            "left": null
          }
        },
        "2a301bd9f6374495b875cc5231303988": {
          "model_module": "@jupyter-widgets/controls",
          "model_name": "FloatProgressModel",
          "state": {
            "_view_name": "ProgressView",
            "style": "IPY_MODEL_f81bef77170d441480270a08a371b517",
            "_dom_classes": [],
            "description": "100%",
            "_model_name": "FloatProgressModel",
            "bar_style": "success",
            "max": 3263,
            "_view_module": "@jupyter-widgets/controls",
            "_model_module_version": "1.5.0",
            "value": 3263,
            "_view_count": null,
            "_view_module_version": "1.5.0",
            "orientation": "horizontal",
            "min": 0,
            "description_tooltip": null,
            "_model_module": "@jupyter-widgets/controls",
            "layout": "IPY_MODEL_04b6289e5b7143e6b059d4407dfafd0b"
          }
        },
        "f93850cb9d804392a54d8bd696419d1f": {
          "model_module": "@jupyter-widgets/controls",
          "model_name": "HTMLModel",
          "state": {
            "_view_name": "HTMLView",
            "style": "IPY_MODEL_450681b486024310af1354a2628aba1f",
            "_dom_classes": [],
            "description": "",
            "_model_name": "HTMLModel",
            "placeholder": "​",
            "_view_module": "@jupyter-widgets/controls",
            "_model_module_version": "1.5.0",
            "value": " 3263/3263 [12:16&lt;00:00,  4.43it/s]",
            "_view_count": null,
            "_view_module_version": "1.5.0",
            "description_tooltip": null,
            "_model_module": "@jupyter-widgets/controls",
            "layout": "IPY_MODEL_9cb2a7f5a81545ea83491ae5fdaaa946"
          }
        },
        "f81bef77170d441480270a08a371b517": {
          "model_module": "@jupyter-widgets/controls",
          "model_name": "ProgressStyleModel",
          "state": {
            "_view_name": "StyleView",
            "_model_name": "ProgressStyleModel",
            "description_width": "initial",
            "_view_module": "@jupyter-widgets/base",
            "_model_module_version": "1.5.0",
            "_view_count": null,
            "_view_module_version": "1.2.0",
            "bar_color": null,
            "_model_module": "@jupyter-widgets/controls"
          }
        },
        "04b6289e5b7143e6b059d4407dfafd0b": {
          "model_module": "@jupyter-widgets/base",
          "model_name": "LayoutModel",
          "state": {
            "_view_name": "LayoutView",
            "grid_template_rows": null,
            "right": null,
            "justify_content": null,
            "_view_module": "@jupyter-widgets/base",
            "overflow": null,
            "_model_module_version": "1.2.0",
            "_view_count": null,
            "flex_flow": null,
            "width": null,
            "min_width": null,
            "border": null,
            "align_items": null,
            "bottom": null,
            "_model_module": "@jupyter-widgets/base",
            "top": null,
            "grid_column": null,
            "overflow_y": null,
            "overflow_x": null,
            "grid_auto_flow": null,
            "grid_area": null,
            "grid_template_columns": null,
            "flex": null,
            "_model_name": "LayoutModel",
            "justify_items": null,
            "grid_row": null,
            "max_height": null,
            "align_content": null,
            "visibility": null,
            "align_self": null,
            "height": null,
            "min_height": null,
            "padding": null,
            "grid_auto_rows": null,
            "grid_gap": null,
            "max_width": null,
            "order": null,
            "_view_module_version": "1.2.0",
            "grid_template_areas": null,
            "object_position": null,
            "object_fit": null,
            "grid_auto_columns": null,
            "margin": null,
            "display": null,
            "left": null
          }
        },
        "450681b486024310af1354a2628aba1f": {
          "model_module": "@jupyter-widgets/controls",
          "model_name": "DescriptionStyleModel",
          "state": {
            "_view_name": "StyleView",
            "_model_name": "DescriptionStyleModel",
            "description_width": "",
            "_view_module": "@jupyter-widgets/base",
            "_model_module_version": "1.5.0",
            "_view_count": null,
            "_view_module_version": "1.2.0",
            "_model_module": "@jupyter-widgets/controls"
          }
        },
        "9cb2a7f5a81545ea83491ae5fdaaa946": {
          "model_module": "@jupyter-widgets/base",
          "model_name": "LayoutModel",
          "state": {
            "_view_name": "LayoutView",
            "grid_template_rows": null,
            "right": null,
            "justify_content": null,
            "_view_module": "@jupyter-widgets/base",
            "overflow": null,
            "_model_module_version": "1.2.0",
            "_view_count": null,
            "flex_flow": null,
            "width": null,
            "min_width": null,
            "border": null,
            "align_items": null,
            "bottom": null,
            "_model_module": "@jupyter-widgets/base",
            "top": null,
            "grid_column": null,
            "overflow_y": null,
            "overflow_x": null,
            "grid_auto_flow": null,
            "grid_area": null,
            "grid_template_columns": null,
            "flex": null,
            "_model_name": "LayoutModel",
            "justify_items": null,
            "grid_row": null,
            "max_height": null,
            "align_content": null,
            "visibility": null,
            "align_self": null,
            "height": null,
            "min_height": null,
            "padding": null,
            "grid_auto_rows": null,
            "grid_gap": null,
            "max_width": null,
            "order": null,
            "_view_module_version": "1.2.0",
            "grid_template_areas": null,
            "object_position": null,
            "object_fit": null,
            "grid_auto_columns": null,
            "margin": null,
            "display": null,
            "left": null
          }
        }
      }
    }
  },
  "cells": [
    {
      "cell_type": "code",
      "metadata": {
        "id": "SeC1L5rWC-JW",
        "colab_type": "code",
        "colab": {}
      },
      "source": [
        "!pip3 install tensorflow_text>=2.0.0rc0"
      ],
      "execution_count": null,
      "outputs": []
    },
    {
      "cell_type": "code",
      "metadata": {
        "id": "U9uzwpDnDokq",
        "colab_type": "code",
        "colab": {}
      },
      "source": [
        "import numpy as np\n",
        "import pandas as pd\n",
        "import re\n",
        "import tqdm.notebook as tq\n",
        "import string\n",
        "\n",
        "import tensorflow as tf\n",
        "import tensorflow_hub as hub\n",
        "import tensorflow_text\n",
        "\n",
        "from sklearn.metrics import accuracy_score\n",
        "from sklearn.svm import SVC\n",
        "from sklearn import model_selection\n",
        "from sklearn.model_selection import train_test_split\n",
        "from sklearn.model_selection import GridSearchCV\n",
        "from sklearn.naive_bayes import GaussianNB"
      ],
      "execution_count": null,
      "outputs": []
    },
    {
      "cell_type": "code",
      "metadata": {
        "id": "oscNv4TGDODo",
        "colab_type": "code",
        "colab": {
          "resources": {
            "http://localhost:8080/nbextensions/google.colab/files.js": {
              "data": "Ly8gQ29weXJpZ2h0IDIwMTcgR29vZ2xlIExMQwovLwovLyBMaWNlbnNlZCB1bmRlciB0aGUgQXBhY2hlIExpY2Vuc2UsIFZlcnNpb24gMi4wICh0aGUgIkxpY2Vuc2UiKTsKLy8geW91IG1heSBub3QgdXNlIHRoaXMgZmlsZSBleGNlcHQgaW4gY29tcGxpYW5jZSB3aXRoIHRoZSBMaWNlbnNlLgovLyBZb3UgbWF5IG9idGFpbiBhIGNvcHkgb2YgdGhlIExpY2Vuc2UgYXQKLy8KLy8gICAgICBodHRwOi8vd3d3LmFwYWNoZS5vcmcvbGljZW5zZXMvTElDRU5TRS0yLjAKLy8KLy8gVW5sZXNzIHJlcXVpcmVkIGJ5IGFwcGxpY2FibGUgbGF3IG9yIGFncmVlZCB0byBpbiB3cml0aW5nLCBzb2Z0d2FyZQovLyBkaXN0cmlidXRlZCB1bmRlciB0aGUgTGljZW5zZSBpcyBkaXN0cmlidXRlZCBvbiBhbiAiQVMgSVMiIEJBU0lTLAovLyBXSVRIT1VUIFdBUlJBTlRJRVMgT1IgQ09ORElUSU9OUyBPRiBBTlkgS0lORCwgZWl0aGVyIGV4cHJlc3Mgb3IgaW1wbGllZC4KLy8gU2VlIHRoZSBMaWNlbnNlIGZvciB0aGUgc3BlY2lmaWMgbGFuZ3VhZ2UgZ292ZXJuaW5nIHBlcm1pc3Npb25zIGFuZAovLyBsaW1pdGF0aW9ucyB1bmRlciB0aGUgTGljZW5zZS4KCi8qKgogKiBAZmlsZW92ZXJ2aWV3IEhlbHBlcnMgZm9yIGdvb2dsZS5jb2xhYiBQeXRob24gbW9kdWxlLgogKi8KKGZ1bmN0aW9uKHNjb3BlKSB7CmZ1bmN0aW9uIHNwYW4odGV4dCwgc3R5bGVBdHRyaWJ1dGVzID0ge30pIHsKICBjb25zdCBlbGVtZW50ID0gZG9jdW1lbnQuY3JlYXRlRWxlbWVudCgnc3BhbicpOwogIGVsZW1lbnQudGV4dENvbnRlbnQgPSB0ZXh0OwogIGZvciAoY29uc3Qga2V5IG9mIE9iamVjdC5rZXlzKHN0eWxlQXR0cmlidXRlcykpIHsKICAgIGVsZW1lbnQuc3R5bGVba2V5XSA9IHN0eWxlQXR0cmlidXRlc1trZXldOwogIH0KICByZXR1cm4gZWxlbWVudDsKfQoKLy8gTWF4IG51bWJlciBvZiBieXRlcyB3aGljaCB3aWxsIGJlIHVwbG9hZGVkIGF0IGEgdGltZS4KY29uc3QgTUFYX1BBWUxPQURfU0laRSA9IDEwMCAqIDEwMjQ7CgpmdW5jdGlvbiBfdXBsb2FkRmlsZXMoaW5wdXRJZCwgb3V0cHV0SWQpIHsKICBjb25zdCBzdGVwcyA9IHVwbG9hZEZpbGVzU3RlcChpbnB1dElkLCBvdXRwdXRJZCk7CiAgY29uc3Qgb3V0cHV0RWxlbWVudCA9IGRvY3VtZW50LmdldEVsZW1lbnRCeUlkKG91dHB1dElkKTsKICAvLyBDYWNoZSBzdGVwcyBvbiB0aGUgb3V0cHV0RWxlbWVudCB0byBtYWtlIGl0IGF2YWlsYWJsZSBmb3IgdGhlIG5leHQgY2FsbAogIC8vIHRvIHVwbG9hZEZpbGVzQ29udGludWUgZnJvbSBQeXRob24uCiAgb3V0cHV0RWxlbWVudC5zdGVwcyA9IHN0ZXBzOwoKICByZXR1cm4gX3VwbG9hZEZpbGVzQ29udGludWUob3V0cHV0SWQpOwp9CgovLyBUaGlzIGlzIHJvdWdobHkgYW4gYXN5bmMgZ2VuZXJhdG9yIChub3Qgc3VwcG9ydGVkIGluIHRoZSBicm93c2VyIHlldCksCi8vIHdoZXJlIHRoZXJlIGFyZSBtdWx0aXBsZSBhc3luY2hyb25vdXMgc3RlcHMgYW5kIHRoZSBQeXRob24gc2lkZSBpcyBnb2luZwovLyB0byBwb2xsIGZvciBjb21wbGV0aW9uIG9mIGVhY2ggc3RlcC4KLy8gVGhpcyB1c2VzIGEgUHJvbWlzZSB0byBibG9jayB0aGUgcHl0aG9uIHNpZGUgb24gY29tcGxldGlvbiBvZiBlYWNoIHN0ZXAsCi8vIHRoZW4gcGFzc2VzIHRoZSByZXN1bHQgb2YgdGhlIHByZXZpb3VzIHN0ZXAgYXMgdGhlIGlucHV0IHRvIHRoZSBuZXh0IHN0ZXAuCmZ1bmN0aW9uIF91cGxvYWRGaWxlc0NvbnRpbnVlKG91dHB1dElkKSB7CiAgY29uc3Qgb3V0cHV0RWxlbWVudCA9IGRvY3VtZW50LmdldEVsZW1lbnRCeUlkKG91dHB1dElkKTsKICBjb25zdCBzdGVwcyA9IG91dHB1dEVsZW1lbnQuc3RlcHM7CgogIGNvbnN0IG5leHQgPSBzdGVwcy5uZXh0KG91dHB1dEVsZW1lbnQubGFzdFByb21pc2VWYWx1ZSk7CiAgcmV0dXJuIFByb21pc2UucmVzb2x2ZShuZXh0LnZhbHVlLnByb21pc2UpLnRoZW4oKHZhbHVlKSA9PiB7CiAgICAvLyBDYWNoZSB0aGUgbGFzdCBwcm9taXNlIHZhbHVlIHRvIG1ha2UgaXQgYXZhaWxhYmxlIHRvIHRoZSBuZXh0CiAgICAvLyBzdGVwIG9mIHRoZSBnZW5lcmF0b3IuCiAgICBvdXRwdXRFbGVtZW50Lmxhc3RQcm9taXNlVmFsdWUgPSB2YWx1ZTsKICAgIHJldHVybiBuZXh0LnZhbHVlLnJlc3BvbnNlOwogIH0pOwp9CgovKioKICogR2VuZXJhdG9yIGZ1bmN0aW9uIHdoaWNoIGlzIGNhbGxlZCBiZXR3ZWVuIGVhY2ggYXN5bmMgc3RlcCBvZiB0aGUgdXBsb2FkCiAqIHByb2Nlc3MuCiAqIEBwYXJhbSB7c3RyaW5nfSBpbnB1dElkIEVsZW1lbnQgSUQgb2YgdGhlIGlucHV0IGZpbGUgcGlja2VyIGVsZW1lbnQuCiAqIEBwYXJhbSB7c3RyaW5nfSBvdXRwdXRJZCBFbGVtZW50IElEIG9mIHRoZSBvdXRwdXQgZGlzcGxheS4KICogQHJldHVybiB7IUl0ZXJhYmxlPCFPYmplY3Q+fSBJdGVyYWJsZSBvZiBuZXh0IHN0ZXBzLgogKi8KZnVuY3Rpb24qIHVwbG9hZEZpbGVzU3RlcChpbnB1dElkLCBvdXRwdXRJZCkgewogIGNvbnN0IGlucHV0RWxlbWVudCA9IGRvY3VtZW50LmdldEVsZW1lbnRCeUlkKGlucHV0SWQpOwogIGlucHV0RWxlbWVudC5kaXNhYmxlZCA9IGZhbHNlOwoKICBjb25zdCBvdXRwdXRFbGVtZW50ID0gZG9jdW1lbnQuZ2V0RWxlbWVudEJ5SWQob3V0cHV0SWQpOwogIG91dHB1dEVsZW1lbnQuaW5uZXJIVE1MID0gJyc7CgogIGNvbnN0IHBpY2tlZFByb21pc2UgPSBuZXcgUHJvbWlzZSgocmVzb2x2ZSkgPT4gewogICAgaW5wdXRFbGVtZW50LmFkZEV2ZW50TGlzdGVuZXIoJ2NoYW5nZScsIChlKSA9PiB7CiAgICAgIHJlc29sdmUoZS50YXJnZXQuZmlsZXMpOwogICAgfSk7CiAgfSk7CgogIGNvbnN0IGNhbmNlbCA9IGRvY3VtZW50LmNyZWF0ZUVsZW1lbnQoJ2J1dHRvbicpOwogIGlucHV0RWxlbWVudC5wYXJlbnRFbGVtZW50LmFwcGVuZENoaWxkKGNhbmNlbCk7CiAgY2FuY2VsLnRleHRDb250ZW50ID0gJ0NhbmNlbCB1cGxvYWQnOwogIGNvbnN0IGNhbmNlbFByb21pc2UgPSBuZXcgUHJvbWlzZSgocmVzb2x2ZSkgPT4gewogICAgY2FuY2VsLm9uY2xpY2sgPSAoKSA9PiB7CiAgICAgIHJlc29sdmUobnVsbCk7CiAgICB9OwogIH0pOwoKICAvLyBXYWl0IGZvciB0aGUgdXNlciB0byBwaWNrIHRoZSBmaWxlcy4KICBjb25zdCBmaWxlcyA9IHlpZWxkIHsKICAgIHByb21pc2U6IFByb21pc2UucmFjZShbcGlja2VkUHJvbWlzZSwgY2FuY2VsUHJvbWlzZV0pLAogICAgcmVzcG9uc2U6IHsKICAgICAgYWN0aW9uOiAnc3RhcnRpbmcnLAogICAgfQogIH07CgogIGNhbmNlbC5yZW1vdmUoKTsKCiAgLy8gRGlzYWJsZSB0aGUgaW5wdXQgZWxlbWVudCBzaW5jZSBmdXJ0aGVyIHBpY2tzIGFyZSBub3QgYWxsb3dlZC4KICBpbnB1dEVsZW1lbnQuZGlzYWJsZWQgPSB0cnVlOwoKICBpZiAoIWZpbGVzKSB7CiAgICByZXR1cm4gewogICAgICByZXNwb25zZTogewogICAgICAgIGFjdGlvbjogJ2NvbXBsZXRlJywKICAgICAgfQogICAgfTsKICB9CgogIGZvciAoY29uc3QgZmlsZSBvZiBmaWxlcykgewogICAgY29uc3QgbGkgPSBkb2N1bWVudC5jcmVhdGVFbGVtZW50KCdsaScpOwogICAgbGkuYXBwZW5kKHNwYW4oZmlsZS5uYW1lLCB7Zm9udFdlaWdodDogJ2JvbGQnfSkpOwogICAgbGkuYXBwZW5kKHNwYW4oCiAgICAgICAgYCgke2ZpbGUudHlwZSB8fCAnbi9hJ30pIC0gJHtmaWxlLnNpemV9IGJ5dGVzLCBgICsKICAgICAgICBgbGFzdCBtb2RpZmllZDogJHsKICAgICAgICAgICAgZmlsZS5sYXN0TW9kaWZpZWREYXRlID8gZmlsZS5sYXN0TW9kaWZpZWREYXRlLnRvTG9jYWxlRGF0ZVN0cmluZygpIDoKICAgICAgICAgICAgICAgICAgICAgICAgICAgICAgICAgICAgJ24vYSd9IC0gYCkpOwogICAgY29uc3QgcGVyY2VudCA9IHNwYW4oJzAlIGRvbmUnKTsKICAgIGxpLmFwcGVuZENoaWxkKHBlcmNlbnQpOwoKICAgIG91dHB1dEVsZW1lbnQuYXBwZW5kQ2hpbGQobGkpOwoKICAgIGNvbnN0IGZpbGVEYXRhUHJvbWlzZSA9IG5ldyBQcm9taXNlKChyZXNvbHZlKSA9PiB7CiAgICAgIGNvbnN0IHJlYWRlciA9IG5ldyBGaWxlUmVhZGVyKCk7CiAgICAgIHJlYWRlci5vbmxvYWQgPSAoZSkgPT4gewogICAgICAgIHJlc29sdmUoZS50YXJnZXQucmVzdWx0KTsKICAgICAgfTsKICAgICAgcmVhZGVyLnJlYWRBc0FycmF5QnVmZmVyKGZpbGUpOwogICAgfSk7CiAgICAvLyBXYWl0IGZvciB0aGUgZGF0YSB0byBiZSByZWFkeS4KICAgIGxldCBmaWxlRGF0YSA9IHlpZWxkIHsKICAgICAgcHJvbWlzZTogZmlsZURhdGFQcm9taXNlLAogICAgICByZXNwb25zZTogewogICAgICAgIGFjdGlvbjogJ2NvbnRpbnVlJywKICAgICAgfQogICAgfTsKCiAgICAvLyBVc2UgYSBjaHVua2VkIHNlbmRpbmcgdG8gYXZvaWQgbWVzc2FnZSBzaXplIGxpbWl0cy4gU2VlIGIvNjIxMTU2NjAuCiAgICBsZXQgcG9zaXRpb24gPSAwOwogICAgd2hpbGUgKHBvc2l0aW9uIDwgZmlsZURhdGEuYnl0ZUxlbmd0aCkgewogICAgICBjb25zdCBsZW5ndGggPSBNYXRoLm1pbihmaWxlRGF0YS5ieXRlTGVuZ3RoIC0gcG9zaXRpb24sIE1BWF9QQVlMT0FEX1NJWkUpOwogICAgICBjb25zdCBjaHVuayA9IG5ldyBVaW50OEFycmF5KGZpbGVEYXRhLCBwb3NpdGlvbiwgbGVuZ3RoKTsKICAgICAgcG9zaXRpb24gKz0gbGVuZ3RoOwoKICAgICAgY29uc3QgYmFzZTY0ID0gYnRvYShTdHJpbmcuZnJvbUNoYXJDb2RlLmFwcGx5KG51bGwsIGNodW5rKSk7CiAgICAgIHlpZWxkIHsKICAgICAgICByZXNwb25zZTogewogICAgICAgICAgYWN0aW9uOiAnYXBwZW5kJywKICAgICAgICAgIGZpbGU6IGZpbGUubmFtZSwKICAgICAgICAgIGRhdGE6IGJhc2U2NCwKICAgICAgICB9LAogICAgICB9OwogICAgICBwZXJjZW50LnRleHRDb250ZW50ID0KICAgICAgICAgIGAke01hdGgucm91bmQoKHBvc2l0aW9uIC8gZmlsZURhdGEuYnl0ZUxlbmd0aCkgKiAxMDApfSUgZG9uZWA7CiAgICB9CiAgfQoKICAvLyBBbGwgZG9uZS4KICB5aWVsZCB7CiAgICByZXNwb25zZTogewogICAgICBhY3Rpb246ICdjb21wbGV0ZScsCiAgICB9CiAgfTsKfQoKc2NvcGUuZ29vZ2xlID0gc2NvcGUuZ29vZ2xlIHx8IHt9OwpzY29wZS5nb29nbGUuY29sYWIgPSBzY29wZS5nb29nbGUuY29sYWIgfHwge307CnNjb3BlLmdvb2dsZS5jb2xhYi5fZmlsZXMgPSB7CiAgX3VwbG9hZEZpbGVzLAogIF91cGxvYWRGaWxlc0NvbnRpbnVlLAp9Owp9KShzZWxmKTsK",
              "ok": true,
              "headers": [
                [
                  "content-type",
                  "application/javascript"
                ]
              ],
              "status": 200,
              "status_text": ""
            }
          },
          "base_uri": "https://localhost:8080/",
          "height": 106
        },
        "outputId": "99b9f58e-7527-4d20-dc45-4f92f44e27ae"
      },
      "source": [
        "from google.colab import files\n",
        "uploaded = files.upload()"
      ],
      "execution_count": null,
      "outputs": [
        {
          "output_type": "display_data",
          "data": {
            "text/html": [
              "\n",
              "     <input type=\"file\" id=\"files-1b214738-f01c-4cf8-9780-201372556ea5\" name=\"files[]\" multiple disabled\n",
              "        style=\"border:none\" />\n",
              "     <output id=\"result-1b214738-f01c-4cf8-9780-201372556ea5\">\n",
              "      Upload widget is only available when the cell has been executed in the\n",
              "      current browser session. Please rerun this cell to enable.\n",
              "      </output>\n",
              "      <script src=\"/nbextensions/google.colab/files.js\"></script> "
            ],
            "text/plain": [
              "<IPython.core.display.HTML object>"
            ]
          },
          "metadata": {
            "tags": []
          }
        },
        {
          "output_type": "stream",
          "text": [
            "Saving test.csv to test.csv\n",
            "Saving train.csv to train.csv\n"
          ],
          "name": "stdout"
        }
      ]
    },
    {
      "cell_type": "code",
      "metadata": {
        "id": "VcS-JpqtDbrX",
        "colab_type": "code",
        "colab": {}
      },
      "source": [
        "train = pd.read_csv(\"train.csv\")\n",
        "test = pd.read_csv(\"test.csv\")"
      ],
      "execution_count": null,
      "outputs": []
    },
    {
      "cell_type": "code",
      "metadata": {
        "id": "K-fr1FWhEGP1",
        "colab_type": "code",
        "colab": {}
      },
      "source": [
        "def clean(text):\n",
        "    text = re.sub(r'\\t', ' ', text) # eliminamos tabulation\n",
        "    text = re.sub(r'\\n', ' ', text) # eliminamos nueva linea\n",
        "    text = re.sub(r\"\\s+\", \" \", text) # eliminamos extra espacios\n",
        "    text = text.strip() # eliminamos espacios al principio y al fin\n",
        "    text = re.sub(r\"[^a-zA-Z\\'\\.\\,\\d\\s]\", \" \", text) # eliminamos caracter especiales\n",
        "    text = re.sub(r\"http\\S+\", \" \", text) # eliminamos links\n",
        "    text = re.sub(r\"[0-9]\", \" \", text) # eliminamos numeros\n",
        "    \n",
        "    return text"
      ],
      "execution_count": null,
      "outputs": []
    },
    {
      "cell_type": "code",
      "metadata": {
        "id": "reX4ZU-CEJXM",
        "colab_type": "code",
        "colab": {}
      },
      "source": [
        "train.text = train.text.apply(clean)\n",
        "test.text = test.text.apply(clean)"
      ],
      "execution_count": null,
      "outputs": []
    },
    {
      "cell_type": "code",
      "metadata": {
        "id": "OEWAcg7zDzx2",
        "colab_type": "code",
        "colab": {}
      },
      "source": [
        "embed = hub.load(\"https://tfhub.dev/google/universal-sentence-encoder-multilingual-large/3\")"
      ],
      "execution_count": null,
      "outputs": []
    },
    {
      "cell_type": "code",
      "metadata": {
        "id": "VoZVTc1rdp3M",
        "colab_type": "code",
        "colab": {
          "base_uri": "https://localhost:8080/",
          "height": 1000
        },
        "outputId": "1eee3669-038a-4d34-ac0c-e2f1f999fb59"
      },
      "source": [
        "embed('hello world')"
      ],
      "execution_count": null,
      "outputs": [
        {
          "output_type": "execute_result",
          "data": {
            "text/plain": [
              "<tf.Tensor: shape=(1, 512), dtype=float32, numpy=\n",
              "array([[ 0.05679859,  0.00039966, -0.04721997, -0.00237391, -0.00133101,\n",
              "        -0.07340868,  0.03015386, -0.01155163, -0.04641062, -0.02860397,\n",
              "         0.00596971, -0.06006122,  0.0050675 ,  0.02867028,  0.00816475,\n",
              "         0.00257079,  0.01661796,  0.05151922,  0.06586424, -0.0104136 ,\n",
              "         0.02593341,  0.00465988,  0.07797637,  0.01581948,  0.04321634,\n",
              "        -0.00211051,  0.08996548,  0.00092777, -0.03003569,  0.00322175,\n",
              "        -0.00294578, -0.03005555, -0.03486117, -0.07770569,  0.03615946,\n",
              "        -0.054484  , -0.0265274 ,  0.00016399,  0.02643614, -0.06270367,\n",
              "         0.02216633,  0.00972736, -0.03037143,  0.06702992,  0.05930759,\n",
              "         0.04259753,  0.03830501,  0.08515137,  0.01702011,  0.00709119,\n",
              "         0.01693203, -0.00574082, -0.02684974, -0.02125344, -0.00611558,\n",
              "        -0.05458139, -0.06069318,  0.03294551, -0.01941219, -0.02750246,\n",
              "         0.03343957, -0.09708545, -0.05304239,  0.00502583,  0.04201486,\n",
              "        -0.09772389,  0.05266269,  0.00571321, -0.02825601,  0.05975676,\n",
              "        -0.00040839,  0.01895519,  0.00940252, -0.00347413, -0.03284886,\n",
              "         0.07399048,  0.00312406, -0.03634597, -0.0485671 ,  0.06292124,\n",
              "         0.01468949, -0.08928749, -0.05072318,  0.03141295, -0.03543326,\n",
              "        -0.01309215,  0.03872524,  0.05373321, -0.04846651, -0.04569978,\n",
              "        -0.06024614,  0.00984464, -0.05615071,  0.05959561, -0.06679693,\n",
              "         0.14252408, -0.11527338,  0.05142116, -0.04234425, -0.00050153,\n",
              "        -0.0707342 ,  0.09950279,  0.04914536,  0.05997516,  0.02183058,\n",
              "        -0.03711689, -0.06178689,  0.01951784,  0.01687198,  0.02374896,\n",
              "        -0.01572216,  0.09133786, -0.08620957,  0.02232096,  0.02445189,\n",
              "        -0.00334211,  0.00686282,  0.03833102,  0.0938773 , -0.04389612,\n",
              "        -0.00901082, -0.01822363, -0.02459919, -0.06478687, -0.00814423,\n",
              "        -0.05501609, -0.00271782,  0.02350631,  0.02074668, -0.0205044 ,\n",
              "         0.01893876,  0.01998394,  0.01645232, -0.01546762, -0.01220095,\n",
              "         0.0236656 ,  0.06967798,  0.05638517, -0.01043868, -0.03755618,\n",
              "         0.0193788 ,  0.0093771 ,  0.05445406,  0.07512861, -0.03418649,\n",
              "         0.05074932, -0.04072068,  0.03039201,  0.05518939,  0.02233517,\n",
              "         0.01056463, -0.00079634, -0.0107841 , -0.01543039,  0.01877677,\n",
              "        -0.02889261, -0.01578159,  0.0126335 ,  0.00830149,  0.03818853,\n",
              "         0.04391707, -0.02762897, -0.02797857, -0.01633385, -0.00825354,\n",
              "         0.03658104,  0.0738742 ,  0.01535924, -0.05216558, -0.06300437,\n",
              "        -0.05320944,  0.09715561,  0.00756993, -0.02014384,  0.01120024,\n",
              "        -0.00958398,  0.00555271,  0.02670322, -0.07136123,  0.00624845,\n",
              "        -0.02209052, -0.01593054, -0.01304904,  0.00176043, -0.06887851,\n",
              "         0.02026414, -0.07496282, -0.0265585 ,  0.09398174, -0.04464877,\n",
              "        -0.04668084, -0.05029176, -0.01064564,  0.06572634, -0.029515  ,\n",
              "         0.03177164, -0.08480119, -0.01295284, -0.0260701 , -0.02838057,\n",
              "         0.07870372, -0.12662008, -0.08251273, -0.07713974,  0.05592432,\n",
              "         0.05760832, -0.04507166, -0.01928612, -0.03411322, -0.00263667,\n",
              "         0.01955056, -0.01352287, -0.01583737,  0.09627602,  0.00972462,\n",
              "        -0.00808831, -0.00711846, -0.02197953, -0.02697543,  0.02629885,\n",
              "         0.02437702, -0.02755387, -0.08134633, -0.02341548,  0.06657966,\n",
              "        -0.03136917,  0.02240423,  0.02700126,  0.02881319, -0.02361438,\n",
              "        -0.02013886,  0.04064397, -0.02687014, -0.03336357, -0.02635099,\n",
              "         0.06545692,  0.013338  ,  0.02611305, -0.01176516,  0.04868948,\n",
              "        -0.03135993, -0.0810938 ,  0.03059287, -0.00211065,  0.0215141 ,\n",
              "        -0.00345631, -0.03211102,  0.0089291 , -0.0099901 ,  0.10240027,\n",
              "         0.08793879,  0.02713553,  0.005025  ,  0.00503072,  0.03403391,\n",
              "        -0.00653704,  0.03114725,  0.00162485, -0.03506216, -0.01303264,\n",
              "        -0.07812318, -0.05024187,  0.04586647, -0.00266045,  0.02281973,\n",
              "        -0.0698763 ,  0.01469479,  0.085357  , -0.0396909 , -0.02525027,\n",
              "         0.02393922,  0.02848194,  0.04452339, -0.00245413,  0.10012919,\n",
              "         0.003201  , -0.00543502,  0.0262321 , -0.01417251, -0.03198196,\n",
              "         0.00830276, -0.03295545,  0.01701088, -0.03744981,  0.04122762,\n",
              "        -0.02754553, -0.02235749, -0.06862224, -0.08554148, -0.03119041,\n",
              "        -0.05901517, -0.05747481, -0.06653123, -0.01786523,  0.01087011,\n",
              "        -0.04022358, -0.00143999,  0.04388218, -0.05358164, -0.04113972,\n",
              "         0.01436549, -0.00963901,  0.02084574, -0.03124492, -0.03332067,\n",
              "        -0.01282484, -0.03571142,  0.01964248, -0.03947133,  0.021763  ,\n",
              "         0.03396327, -0.01512621, -0.01854414,  0.02099727,  0.04459538,\n",
              "        -0.02776808,  0.01771797, -0.04746917, -0.02079809, -0.00096472,\n",
              "        -0.01800482, -0.01330565,  0.08803453, -0.03360066,  0.04416615,\n",
              "        -0.0239111 , -0.05586176,  0.0482364 ,  0.01805434,  0.01677554,\n",
              "        -0.01393982,  0.01305293,  0.02123365,  0.06627467, -0.03329482,\n",
              "        -0.02876038, -0.04172645,  0.01495296,  0.06141224, -0.05222508,\n",
              "         0.02386639, -0.03892399,  0.00661974,  0.01432228,  0.05364009,\n",
              "        -0.0169006 , -0.09112988, -0.02318027,  0.01580977, -0.00739239,\n",
              "        -0.03001697,  0.00739198, -0.07022661,  0.01472476, -0.06226325,\n",
              "         0.01194398, -0.1164367 ,  0.01249516, -0.06897549, -0.01349883,\n",
              "        -0.02083686, -0.01881044,  0.0342126 , -0.00420407,  0.04406549,\n",
              "         0.01022191,  0.07596774, -0.05109435, -0.04167089, -0.04857119,\n",
              "        -0.07798528, -0.04940082, -0.02287426,  0.03183333, -0.00098097,\n",
              "         0.00618043, -0.01499397,  0.02984446, -0.08166038,  0.02634795,\n",
              "         0.00539628, -0.02725161, -0.00876393,  0.05135435, -0.01521641,\n",
              "         0.00936439,  0.02339366, -0.0794824 , -0.01502328,  0.00658845,\n",
              "         0.0801741 ,  0.0010875 , -0.05404854,  0.0795728 ,  0.00055082,\n",
              "         0.03288125,  0.09704481,  0.02309231,  0.00442923, -0.03723807,\n",
              "         0.07645297,  0.0684855 ,  0.07155415, -0.02825826,  0.01423546,\n",
              "        -0.03187268, -0.01806957, -0.00074623, -0.03314364, -0.04002265,\n",
              "         0.0852463 , -0.04299866, -0.0479229 ,  0.00900919, -0.0350625 ,\n",
              "         0.0805905 ,  0.01894538,  0.04177319, -0.00548006,  0.06749297,\n",
              "        -0.04129682, -0.07461143, -0.00740053, -0.04809657, -0.02049557,\n",
              "         0.05559024,  0.04845651, -0.0382758 , -0.02515953, -0.02075852,\n",
              "        -0.03801845,  0.0395916 ,  0.1216928 , -0.03345433,  0.02469045,\n",
              "         0.03182278,  0.00541328, -0.05846631,  0.04641938,  0.01671826,\n",
              "        -0.0156552 , -0.11343493, -0.08014608,  0.02393902, -0.00115034,\n",
              "        -0.01083393, -0.00751558,  0.04778231, -0.00327472, -0.00326436,\n",
              "        -0.00191404,  0.00433543,  0.01654833,  0.03554657,  0.01514853,\n",
              "         0.11675932, -0.0274961 ,  0.02571499, -0.00359074,  0.00484886,\n",
              "        -0.03584528, -0.00813613,  0.06086611, -0.05299219, -0.0014704 ,\n",
              "        -0.02521137, -0.07591928, -0.04655835,  0.03808172, -0.0635055 ,\n",
              "        -0.01666038, -0.02853002,  0.00073299,  0.07664742,  0.05206138,\n",
              "         0.04351589, -0.01199009, -0.07568314, -0.00183397,  0.0299779 ,\n",
              "        -0.03891201,  0.0049065 ,  0.1000343 , -0.00472547, -0.01720759,\n",
              "        -0.0240721 , -0.04250507,  0.05215798, -0.05073151,  0.0112141 ,\n",
              "        -0.00841052, -0.04075088,  0.03467477, -0.0268781 ,  0.04723545,\n",
              "        -0.00560126,  0.03510628, -0.05348001,  0.013323  , -0.11545822,\n",
              "         0.04077834,  0.00323918,  0.09389684,  0.07526515,  0.02489698,\n",
              "        -0.03832522, -0.00365174,  0.02476801, -0.05266233,  0.00569438,\n",
              "        -0.04501529, -0.05343634]], dtype=float32)>"
            ]
          },
          "metadata": {
            "tags": []
          },
          "execution_count": 18
        }
      ]
    },
    {
      "cell_type": "code",
      "metadata": {
        "id": "1cs_htT4EVvP",
        "colab_type": "code",
        "colab": {
          "base_uri": "https://localhost:8080/",
          "height": 115,
          "referenced_widgets": [
            "9cfe15577cc04e0680f2f35cbf8cdd63",
            "8aae57d4eb8146ba8812dd8fa1202b80",
            "06ac410d6ac343b8b6835f05288231fa",
            "085c015eed6f434ebb54ad4f0eef0d4a",
            "08db5b2bad3940bebdef9688bc563695",
            "97f063f4422e46c99ae448600b847954",
            "4517db7096684a32881c8d81273b7191",
            "5bea34b03eac4abd800c6263c18cd80e",
            "d44d0c76eded463ea4dea33b0bc920da",
            "e0c257601f28441fa175564e8a4f7911",
            "2a301bd9f6374495b875cc5231303988",
            "f93850cb9d804392a54d8bd696419d1f",
            "f81bef77170d441480270a08a371b517",
            "04b6289e5b7143e6b059d4407dfafd0b",
            "450681b486024310af1354a2628aba1f",
            "9cb2a7f5a81545ea83491ae5fdaaa946"
          ]
        },
        "outputId": "f9426fd3-b8ae-47c6-b047-decab1bc316b"
      },
      "source": [
        "X_train = []\n",
        "for tweet in tq.tqdm(train.text.values): # progress bar\n",
        "  emb = embed(tweet)\n",
        "  emb = tf.reshape(emb, [-1]).numpy() # guardamos una solo dimensión y convertimos a numpy array\n",
        "  X_train.append(emb)\n",
        "\n",
        "X_train = np.array(X_train)\n",
        "y_train = train.target.values\n",
        "\n",
        "X_test = []\n",
        "for tweet in tq.tqdm(test.text.values):\n",
        "  emb = embed(tweet)\n",
        "  emb = tf.reshape(emb, [-1]).numpy()\n",
        "  X_test.append(emb)\n",
        "\n",
        "X_test = np.array(X_test)"
      ],
      "execution_count": null,
      "outputs": [
        {
          "output_type": "display_data",
          "data": {
            "application/vnd.jupyter.widget-view+json": {
              "model_id": "9cfe15577cc04e0680f2f35cbf8cdd63",
              "version_minor": 0,
              "version_major": 2
            },
            "text/plain": [
              "HBox(children=(FloatProgress(value=0.0, max=7613.0), HTML(value='')))"
            ]
          },
          "metadata": {
            "tags": []
          }
        },
        {
          "output_type": "stream",
          "text": [
            "\n"
          ],
          "name": "stdout"
        },
        {
          "output_type": "display_data",
          "data": {
            "application/vnd.jupyter.widget-view+json": {
              "model_id": "d44d0c76eded463ea4dea33b0bc920da",
              "version_minor": 0,
              "version_major": 2
            },
            "text/plain": [
              "HBox(children=(FloatProgress(value=0.0, max=3263.0), HTML(value='')))"
            ]
          },
          "metadata": {
            "tags": []
          }
        },
        {
          "output_type": "stream",
          "text": [
            "\n"
          ],
          "name": "stdout"
        }
      ]
    },
    {
      "cell_type": "code",
      "metadata": {
        "id": "o1WWSl8FEbsl",
        "colab_type": "code",
        "colab": {}
      },
      "source": [
        "train_arrays, test_arrays, train_targets, test_targets = train_test_split(X_train,y_train,test_size=0.1)"
      ],
      "execution_count": null,
      "outputs": []
    },
    {
      "cell_type": "markdown",
      "metadata": {
        "id": "Z7ioeZKUfEEV",
        "colab_type": "text"
      },
      "source": [
        "# SVM con GridSearch"
      ]
    },
    {
      "cell_type": "code",
      "metadata": {
        "id": "tmq_dSaNEh4A",
        "colab_type": "code",
        "colab": {}
      },
      "source": [
        "def select_parameters(X, y):\n",
        "    parameters = {'C': [0.5, 1, 2],  \n",
        "                  'gamma': [1, 2, 3], \n",
        "                  'kernel': ['rbf']}\n",
        "    grid_search = GridSearchCV(SVC(), parameters)\n",
        "    grid_search.fit(X, y)\n",
        "    return grid_search\n",
        "\n",
        "model = select_parameters(X_train,y_train)"
      ],
      "execution_count": null,
      "outputs": []
    },
    {
      "cell_type": "code",
      "metadata": {
        "id": "Ipi--aL-ElAl",
        "colab_type": "code",
        "colab": {
          "base_uri": "https://localhost:8080/",
          "height": 34
        },
        "outputId": "e0cf5388-7cd4-45b8-c753-24dd5222f504"
      },
      "source": [
        "model.best_params_"
      ],
      "execution_count": null,
      "outputs": [
        {
          "output_type": "execute_result",
          "data": {
            "text/plain": [
              "{'C': 0.5, 'gamma': 1, 'kernel': 'rbf'}"
            ]
          },
          "metadata": {
            "tags": []
          },
          "execution_count": 10
        }
      ]
    },
    {
      "cell_type": "code",
      "metadata": {
        "id": "536cAZsPAzAY",
        "colab_type": "code",
        "colab": {
          "base_uri": "https://localhost:8080/",
          "height": 34
        },
        "outputId": "59769712-3eec-475a-841a-4303bc0c9fc1"
      },
      "source": [
        "accuracy_score(y_train,model.predict(X_train))"
      ],
      "execution_count": null,
      "outputs": [
        {
          "output_type": "execute_result",
          "data": {
            "text/plain": [
              "0.8795481413371864"
            ]
          },
          "metadata": {
            "tags": []
          },
          "execution_count": 11
        }
      ]
    },
    {
      "cell_type": "code",
      "metadata": {
        "id": "z9c8m6AhEljd",
        "colab_type": "code",
        "colab": {
          "base_uri": "https://localhost:8080/",
          "height": 34
        },
        "outputId": "5955e13b-72ad-48e1-f7de-85462c811ade"
      },
      "source": [
        "accuracy_score(train_targets,model.predict(train_arrays)), accuracy_score(test_targets,model.predict(test_arrays))"
      ],
      "execution_count": null,
      "outputs": [
        {
          "output_type": "execute_result",
          "data": {
            "text/plain": [
              "(0.8643993577579915, 0.8162729658792651)"
            ]
          },
          "metadata": {
            "tags": []
          },
          "execution_count": 21
        }
      ]
    },
    {
      "cell_type": "markdown",
      "metadata": {
        "id": "Ap1LwolZfJzI",
        "colab_type": "text"
      },
      "source": [
        "# Red Neuronal"
      ]
    },
    {
      "cell_type": "code",
      "metadata": {
        "id": "JFVal-PPi8j3",
        "colab_type": "code",
        "colab": {}
      },
      "source": [
        "vocab_size = 50000\n",
        "# vocab_size = len(word_index)+1\n",
        "embedding_dim = 64\n",
        "max_length = 512\n",
        "padding_type='post'\n",
        "oov_tok = \"<OOV>\""
      ],
      "execution_count": null,
      "outputs": []
    },
    {
      "cell_type": "code",
      "metadata": {
        "id": "8FaoPDhqfI88",
        "colab_type": "code",
        "colab": {
          "base_uri": "https://localhost:8080/",
          "height": 391
        },
        "outputId": "2e07c48e-ee49-44b7-804b-e93fe55366bf"
      },
      "source": [
        "model = tf.keras.Sequential([\n",
        "    tf.keras.layers.Embedding(vocab_size, embedding_dim, input_length=max_length),\n",
        "#     tf.keras.layers.LSTM(60, return_sequences=True,name='lstm_layer'),\n",
        "    tf.keras.layers.Conv1D( filters=5 ,kernel_size=5, activation='relu'),\n",
        "    tf.keras.layers.GlobalAveragePooling1D(),\n",
        "#     tf.keras.layers.GlobalMaxPooling1D(),\n",
        "    tf.keras.layers.Dropout(0.4),\n",
        "    tf.keras.layers.Dense(100, activation='relu'),\n",
        "    tf.keras.layers.Dropout(0.5),\n",
        "    tf.keras.layers.Dense(1)\n",
        "])\n",
        "\n",
        "\n",
        "model.compile(loss=tf.keras.losses.BinaryCrossentropy(from_logits=True), optimizer='adam',metrics=['accuracy'])\n",
        "# model.compile(loss='binary_crossentropy', optimizer='adam', metrics=['accuracy'])\n",
        "model.summary()"
      ],
      "execution_count": null,
      "outputs": [
        {
          "output_type": "stream",
          "text": [
            "Model: \"sequential_1\"\n",
            "_________________________________________________________________\n",
            "Layer (type)                 Output Shape              Param #   \n",
            "=================================================================\n",
            "embedding_1 (Embedding)      (None, 512, 64)           3200000   \n",
            "_________________________________________________________________\n",
            "conv1d_1 (Conv1D)            (None, 508, 5)            1605      \n",
            "_________________________________________________________________\n",
            "global_average_pooling1d_1 ( (None, 5)                 0         \n",
            "_________________________________________________________________\n",
            "dropout_2 (Dropout)          (None, 5)                 0         \n",
            "_________________________________________________________________\n",
            "dense_2 (Dense)              (None, 100)               600       \n",
            "_________________________________________________________________\n",
            "dropout_3 (Dropout)          (None, 100)               0         \n",
            "_________________________________________________________________\n",
            "dense_3 (Dense)              (None, 1)                 101       \n",
            "=================================================================\n",
            "Total params: 3,202,306\n",
            "Trainable params: 3,202,306\n",
            "Non-trainable params: 0\n",
            "_________________________________________________________________\n"
          ],
          "name": "stdout"
        }
      ]
    },
    {
      "cell_type": "code",
      "metadata": {
        "id": "6ONd2KoDfQoc",
        "colab_type": "code",
        "colab": {
          "base_uri": "https://localhost:8080/",
          "height": 119
        },
        "outputId": "43e3766b-ef90-4e00-8a10-818bb313d824"
      },
      "source": [
        "num_epochs = 3  # mayor num de epochs, mayor tiempo de train\n",
        "batch_size = 25  # a mayor tamaño de batch, menor tiempo de entrenamiento\n",
        "history = model.fit(train_arrays, train_targets, epochs=num_epochs, batch_size=batch_size, validation_data=(test_arrays, test_targets))"
      ],
      "execution_count": null,
      "outputs": [
        {
          "output_type": "stream",
          "text": [
            "Epoch 1/3\n",
            "275/275 [==============================] - 20s 71ms/step - loss: 0.6860 - accuracy: 0.5672 - val_loss: 0.6753 - val_accuracy: 0.5984\n",
            "Epoch 2/3\n",
            "275/275 [==============================] - 18s 64ms/step - loss: 0.6841 - accuracy: 0.5672 - val_loss: 0.6758 - val_accuracy: 0.5984\n",
            "Epoch 3/3\n",
            "275/275 [==============================] - 18s 67ms/step - loss: 0.6849 - accuracy: 0.5672 - val_loss: 0.6760 - val_accuracy: 0.5984\n"
          ],
          "name": "stdout"
        }
      ]
    },
    {
      "cell_type": "code",
      "metadata": {
        "id": "0xaVYcFsfYtl",
        "colab_type": "code",
        "colab": {
          "base_uri": "https://localhost:8080/",
          "height": 51
        },
        "outputId": "edb20dc1-1f61-46c1-d4e0-505a78f9748c"
      },
      "source": [
        "loss, accuracy = model.evaluate(train_arrays, train_targets, verbose=False)\n",
        "print(\"Training Accuracy: {:.4f}\".format(accuracy))\n",
        "loss, accuracy = model.evaluate(test_arrays, test_targets, verbose=False)\n",
        "print(\"Testing Accuracy:  {:.4f}\".format(accuracy))"
      ],
      "execution_count": null,
      "outputs": [
        {
          "output_type": "stream",
          "text": [
            "Training Accuracy: 0.5672\n",
            "Testing Accuracy:  0.5984\n"
          ],
          "name": "stdout"
        }
      ]
    },
    {
      "cell_type": "markdown",
      "metadata": {
        "id": "Suywz7DRFhvh",
        "colab_type": "text"
      },
      "source": [
        "# Submit Kaggle"
      ]
    },
    {
      "cell_type": "code",
      "metadata": {
        "id": "2uIuSjT3FeJj",
        "colab_type": "code",
        "colab": {}
      },
      "source": [
        "predict = pd.DataFrame(model.predict(X_test), columns=['target'])\n",
        "test['target'] = predict['target']\n",
        "results = test[['id', 'target']]\n",
        "results.to_csv('SVM-USE.csv', index=False)"
      ],
      "execution_count": null,
      "outputs": []
    },
    {
      "cell_type": "code",
      "metadata": {
        "id": "Svgrnt_lVRvy",
        "colab_type": "code",
        "colab": {
          "base_uri": "https://localhost:8080/",
          "height": 17
        },
        "outputId": "a19b933a-4852-4363-9db3-bf830b0b5896"
      },
      "source": [
        "files.download('SVM-USE.csv')"
      ],
      "execution_count": null,
      "outputs": [
        {
          "output_type": "display_data",
          "data": {
            "application/javascript": [
              "\n",
              "    async function download(id, filename, size) {\n",
              "      if (!google.colab.kernel.accessAllowed) {\n",
              "        return;\n",
              "      }\n",
              "      const div = document.createElement('div');\n",
              "      const label = document.createElement('label');\n",
              "      label.textContent = `Downloading \"${filename}\": `;\n",
              "      div.appendChild(label);\n",
              "      const progress = document.createElement('progress');\n",
              "      progress.max = size;\n",
              "      div.appendChild(progress);\n",
              "      document.body.appendChild(div);\n",
              "\n",
              "      const buffers = [];\n",
              "      let downloaded = 0;\n",
              "\n",
              "      const channel = await google.colab.kernel.comms.open(id);\n",
              "      // Send a message to notify the kernel that we're ready.\n",
              "      channel.send({})\n",
              "\n",
              "      for await (const message of channel.messages) {\n",
              "        // Send a message to notify the kernel that we're ready.\n",
              "        channel.send({})\n",
              "        if (message.buffers) {\n",
              "          for (const buffer of message.buffers) {\n",
              "            buffers.push(buffer);\n",
              "            downloaded += buffer.byteLength;\n",
              "            progress.value = downloaded;\n",
              "          }\n",
              "        }\n",
              "      }\n",
              "      const blob = new Blob(buffers, {type: 'application/binary'});\n",
              "      const a = document.createElement('a');\n",
              "      a.href = window.URL.createObjectURL(blob);\n",
              "      a.download = filename;\n",
              "      div.appendChild(a);\n",
              "      a.click();\n",
              "      div.remove();\n",
              "    }\n",
              "  "
            ],
            "text/plain": [
              "<IPython.core.display.Javascript object>"
            ]
          },
          "metadata": {
            "tags": []
          }
        },
        {
          "output_type": "display_data",
          "data": {
            "application/javascript": [
              "download(\"download_9c0c3725-7bc7-4e13-816f-45754280b423\", \"SVM-USE.csv\", 22746)"
            ],
            "text/plain": [
              "<IPython.core.display.Javascript object>"
            ]
          },
          "metadata": {
            "tags": []
          }
        }
      ]
    }
  ]
}